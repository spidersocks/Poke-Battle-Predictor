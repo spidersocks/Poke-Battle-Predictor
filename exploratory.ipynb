{
 "cells": [
  {
   "cell_type": "markdown",
   "id": "c54820f2-7792-4b7c-a8aa-7700deb543a6",
   "metadata": {},
   "source": [
    "# Milestone II Project: Pokemon Showdown Battle Predictor\n",
    "\n",
    "This notebook contains the code used to format JSON battle replay logs scraped from [Pokemon Showdown](https://replay.pokemonshowdown.com/)."
   ]
  },
  {
   "cell_type": "markdown",
   "id": "86b241cc-c4c7-4121-8d4d-3d81d041ad9b",
   "metadata": {},
   "source": [
    "## Imports"
   ]
  },
  {
   "cell_type": "code",
   "execution_count": 7,
   "id": "20c46761-0294-4162-b1a9-2b040e287da1",
   "metadata": {},
   "outputs": [],
   "source": [
    "import json\n",
    "import pandas as pd\n",
    "import glob\n",
    "import os"
   ]
  },
  {
   "cell_type": "markdown",
   "id": "5e50cdc2-fdaf-4570-ab92-6f64869b2267",
   "metadata": {},
   "source": [
    "## Helper Functions"
   ]
  },
  {
   "cell_type": "code",
   "execution_count": 75,
   "id": "6beb62e1-9c6a-402f-a624-1ec4cd5dc5be",
   "metadata": {},
   "outputs": [],
   "source": [
    "def parse_showteam(log, player_tag):\n",
    "    \"\"\"\n",
    "    Extract team info for a player (p1 or p2) from the log.\n",
    "    Returns a list of dicts, one per Pokémon slot.\n",
    "    \"\"\"\n",
    "    for line in log.split('\\n'):\n",
    "        if line.startswith(f'|showteam|{player_tag}|'):\n",
    "            team_str = line.split('|', 3)[-1]\n",
    "            pokes = [p.strip('[]') for p in team_str.split(']') if p.strip()]\n",
    "            team = []\n",
    "            for poke in pokes:\n",
    "                # Format: Name||Item|Ability|Move1,Move2,Move3,Move4||||||50|,,,,,Normal\n",
    "                sections = poke.split('|')\n",
    "                name = sections[0]\n",
    "                item = sections[2] if len(sections) > 2 else None\n",
    "                ability = sections[3] if len(sections) > 3 else None\n",
    "                moves = sections[4].split(',') if len(sections) > 4 else []\n",
    "                # Clean up whitespace and empty moves\n",
    "                moves = [m.strip() for m in moves if m.strip()]\n",
    "                team.append({\n",
    "                    'species': name.strip() if name else None,\n",
    "                    'item': item.strip() if item else None,\n",
    "                    'ability': ability.strip() if ability else None,\n",
    "                    'moves': moves\n",
    "                })\n",
    "            return team\n",
    "    return []\n",
    "\n",
    "def parse_winner(log, player1, player2):\n",
    "    for line in log.split('\\n'):\n",
    "        if line.startswith('|win|'):\n",
    "            winner = line.split('|')[2].strip()\n",
    "            if winner == player1:\n",
    "                return 1\n",
    "            elif winner == player2:\n",
    "                return 0\n",
    "    return None  # Could not determine winner\n",
    "\n",
    "    \n",
    "def canonicalize_team(team, max_pokemon=6, max_moves=4):\n",
    "    \"\"\"\n",
    "    Sort team by species for order invariance and pad to max_pokemon.\n",
    "    Each moveset is also padded to max_moves.\n",
    "    \"\"\"\n",
    "    # Remove empty species (can happen with some bad data)\n",
    "    sorted_team = sorted(\n",
    "        [poke for poke in team if poke['species']],\n",
    "        key=lambda poke: poke['species'] or \"\"\n",
    "    )\n",
    "    # Pad to max_pokemon\n",
    "    while len(sorted_team) < max_pokemon:\n",
    "        sorted_team.append({'species': None, 'item': None, 'ability': None, 'moves': [None]*max_moves})\n",
    "    # Ensure moves are fixed length\n",
    "    for poke in sorted_team:\n",
    "        moves = poke.get('moves', [])\n",
    "        poke['moves'] = moves + [None]*(max_moves - len(moves))\n",
    "        poke['moves'] = poke['moves'][:max_moves]\n",
    "    return sorted_team\n",
    "\n",
    "def team_to_flat_features(team, prefix, max_pokemon=6, max_moves=4):\n",
    "    \"\"\"\n",
    "    Flatten team into feature dict for DataFrame row.\n",
    "    \"\"\"\n",
    "    features = {}\n",
    "    for i, poke in enumerate(team):\n",
    "        idx = i + 1\n",
    "        features[f'{prefix}_species_{idx}'] = poke['species']\n",
    "        features[f'{prefix}_item_{idx}'] = poke['item']\n",
    "        features[f'{prefix}_ability_{idx}'] = poke['ability']\n",
    "        for m, move in enumerate(poke['moves']):\n",
    "            features[f'{prefix}_move_{idx}_{m+1}'] = move\n",
    "    return features\n",
    "\n",
    "def process_file(json_path, max_pokemon=6, max_moves=4):\n",
    "    with open(json_path, 'r', encoding='utf-8') as f:\n",
    "        data = json.load(f)\n",
    "    log = data['log']\n",
    "    players = data['players']\n",
    "    # Defensive: make sure there are 2 players\n",
    "    if len(players) != 2:\n",
    "        return None\n",
    "    p1_team = canonicalize_team(parse_showteam(log, 'p1'), max_pokemon=max_pokemon, max_moves=max_moves)\n",
    "    p2_team = canonicalize_team(parse_showteam(log, 'p2'), max_pokemon=max_pokemon, max_moves=max_moves)\n",
    "    outcome = parse_winner(log, players[0], players[1])\n",
    "    return {\n",
    "        'p1_team': p1_team,\n",
    "        'p2_team': p2_team,\n",
    "        'p1_player': players[0],\n",
    "        'p2_player': players[1],\n",
    "        'p1_win': outcome,\n",
    "    }\n",
    "\n",
    "### MAIN BATCH PROCESSING\n",
    "\n",
    "def build_dataset_from_jsons(directory, max_pokemon=6, max_moves=4):\n",
    "    data_rows = []\n",
    "    for file in glob.glob(os.path.join(directory, '*.json')):\n",
    "        game = process_file(file, max_pokemon=max_pokemon, max_moves=max_moves)\n",
    "        if game is None:\n",
    "            continue\n",
    "        row = {}\n",
    "        row.update(team_to_flat_features(game['p1_team'], 'p1', max_pokemon=max_pokemon, max_moves=max_moves))\n",
    "        row.update(team_to_flat_features(game['p2_team'], 'p2', max_pokemon=max_pokemon, max_moves=max_moves))\n",
    "        row['p1_win'] = game['p1_win']\n",
    "        row['p1_player'] = game['p1_player']\n",
    "        row['p2_player'] = game['p2_player']\n",
    "        data_rows.append(row)\n",
    "    df = pd.DataFrame(data_rows)\n",
    "    return df\n",
    "\n",
    "# Usage:\n",
    "# df = build_dataset_from_jsons(\"replays\")\n",
    "# print(df.head())"
   ]
  },
  {
   "cell_type": "code",
   "execution_count": 83,
   "id": "da0c876e-688b-4ca1-b503-d659b5946cf1",
   "metadata": {},
   "outputs": [],
   "source": [
    "# df.to_csv(\"battle_data.csv\", index=False)"
   ]
  },
  {
   "cell_type": "code",
   "execution_count": 90,
   "id": "754b3243-b313-4008-b15d-185bc8ff48e5",
   "metadata": {},
   "outputs": [
    {
     "data": {
      "text/plain": [
       "87"
      ]
     },
     "execution_count": 90,
     "metadata": {},
     "output_type": "execute_result"
    }
   ],
   "source": [
    "len(df.columns)"
   ]
  }
 ],
 "metadata": {
  "kernelspec": {
   "display_name": "Python [conda env:base] *",
   "language": "python",
   "name": "conda-base-py"
  },
  "language_info": {
   "codemirror_mode": {
    "name": "ipython",
    "version": 3
   },
   "file_extension": ".py",
   "mimetype": "text/x-python",
   "name": "python",
   "nbconvert_exporter": "python",
   "pygments_lexer": "ipython3",
   "version": "3.12.7"
  }
 },
 "nbformat": 4,
 "nbformat_minor": 5
}
